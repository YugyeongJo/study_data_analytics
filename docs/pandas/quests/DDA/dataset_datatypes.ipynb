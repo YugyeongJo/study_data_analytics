{
  "nbformat": 4,
  "nbformat_minor": 0,
  "metadata": {
    "colab": {
      "provenance": [],
      "authorship_tag": "ABX9TyOKQV4TLE1rlDq4kJQJhLLC",
      "include_colab_link": true
    },
    "kernelspec": {
      "name": "python3",
      "display_name": "Python 3"
    },
    "language_info": {
      "name": "python"
    }
  },
  "cells": [
    {
      "cell_type": "markdown",
      "metadata": {
        "id": "view-in-github",
        "colab_type": "text"
      },
      "source": [
        "<a href=\"https://colab.research.google.com/github/YugyeongJo/study_data_analytics/blob/main/docs/quests/DDA/dataset_datatypes.ipynb\" target=\"_parent\"><img src=\"https://colab.research.google.com/assets/colab-badge.svg\" alt=\"Open In Colab\"/></a>"
      ]
    },
    {
      "cell_type": "code",
      "execution_count": null,
      "metadata": {
        "id": "Pvf6_aTH4pou"
      },
      "outputs": [],
      "source": [
        "import pandas as pd"
      ]
    },
    {
      "cell_type": "code",
      "source": [
        "df_TitanicFromDisaster = pd.read_csv('/content/sample_data/TitanicFromDisaster_test.csv')"
      ],
      "metadata": {
        "id": "JiJr0biZPSTr"
      },
      "execution_count": 3,
      "outputs": []
    },
    {
      "cell_type": "code",
      "source": [
        "df_TitanicFromDisaster.info()"
      ],
      "metadata": {
        "colab": {
          "base_uri": "https://localhost:8080/"
        },
        "id": "7Ha0Jp39QKik",
        "outputId": "dd913503-955a-4043-fc8d-81b470e58139"
      },
      "execution_count": 4,
      "outputs": [
        {
          "output_type": "stream",
          "name": "stdout",
          "text": [
            "<class 'pandas.core.frame.DataFrame'>\n",
            "RangeIndex: 418 entries, 0 to 417\n",
            "Data columns (total 11 columns):\n",
            " #   Column       Non-Null Count  Dtype  \n",
            "---  ------       --------------  -----  \n",
            " 0   PassengerId  418 non-null    int64  \n",
            " 1   Pclass       418 non-null    int64  \n",
            " 2   Name         418 non-null    object \n",
            " 3   Sex          418 non-null    object \n",
            " 4   Age          332 non-null    float64\n",
            " 5   SibSp        418 non-null    int64  \n",
            " 6   Parch        418 non-null    int64  \n",
            " 7   Ticket       418 non-null    object \n",
            " 8   Fare         417 non-null    float64\n",
            " 9   Cabin        91 non-null     object \n",
            " 10  Embarked     418 non-null    object \n",
            "dtypes: float64(2), int64(4), object(5)\n",
            "memory usage: 36.0+ KB\n"
          ]
        }
      ]
    },
    {
      "cell_type": "code",
      "source": [
        "df_TitanicFromDisaster.columns"
      ],
      "metadata": {
        "colab": {
          "base_uri": "https://localhost:8080/"
        },
        "id": "5DfDqtQqQPia",
        "outputId": "ef19fe1b-c892-42b6-bb05-f7a240930342"
      },
      "execution_count": 5,
      "outputs": [
        {
          "output_type": "execute_result",
          "data": {
            "text/plain": [
              "Index(['PassengerId', 'Pclass', 'Name', 'Sex', 'Age', 'SibSp', 'Parch',\n",
              "       'Ticket', 'Fare', 'Cabin', 'Embarked'],\n",
              "      dtype='object')"
            ]
          },
          "metadata": {},
          "execution_count": 5
        }
      ]
    },
    {
      "cell_type": "code",
      "source": [
        "df_TitanicFromDisaster['PassengerId'].unique()"
      ],
      "metadata": {
        "colab": {
          "base_uri": "https://localhost:8080/"
        },
        "id": "8c4ScejFQUWS",
        "outputId": "6888a96b-1813-49a2-e2a9-ec832bd2962d"
      },
      "execution_count": 7,
      "outputs": [
        {
          "output_type": "execute_result",
          "data": {
            "text/plain": [
              "array([ 892,  893,  894,  895,  896,  897,  898,  899,  900,  901,  902,\n",
              "        903,  904,  905,  906,  907,  908,  909,  910,  911,  912,  913,\n",
              "        914,  915,  916,  917,  918,  919,  920,  921,  922,  923,  924,\n",
              "        925,  926,  927,  928,  929,  930,  931,  932,  933,  934,  935,\n",
              "        936,  937,  938,  939,  940,  941,  942,  943,  944,  945,  946,\n",
              "        947,  948,  949,  950,  951,  952,  953,  954,  955,  956,  957,\n",
              "        958,  959,  960,  961,  962,  963,  964,  965,  966,  967,  968,\n",
              "        969,  970,  971,  972,  973,  974,  975,  976,  977,  978,  979,\n",
              "        980,  981,  982,  983,  984,  985,  986,  987,  988,  989,  990,\n",
              "        991,  992,  993,  994,  995,  996,  997,  998,  999, 1000, 1001,\n",
              "       1002, 1003, 1004, 1005, 1006, 1007, 1008, 1009, 1010, 1011, 1012,\n",
              "       1013, 1014, 1015, 1016, 1017, 1018, 1019, 1020, 1021, 1022, 1023,\n",
              "       1024, 1025, 1026, 1027, 1028, 1029, 1030, 1031, 1032, 1033, 1034,\n",
              "       1035, 1036, 1037, 1038, 1039, 1040, 1041, 1042, 1043, 1044, 1045,\n",
              "       1046, 1047, 1048, 1049, 1050, 1051, 1052, 1053, 1054, 1055, 1056,\n",
              "       1057, 1058, 1059, 1060, 1061, 1062, 1063, 1064, 1065, 1066, 1067,\n",
              "       1068, 1069, 1070, 1071, 1072, 1073, 1074, 1075, 1076, 1077, 1078,\n",
              "       1079, 1080, 1081, 1082, 1083, 1084, 1085, 1086, 1087, 1088, 1089,\n",
              "       1090, 1091, 1092, 1093, 1094, 1095, 1096, 1097, 1098, 1099, 1100,\n",
              "       1101, 1102, 1103, 1104, 1105, 1106, 1107, 1108, 1109, 1110, 1111,\n",
              "       1112, 1113, 1114, 1115, 1116, 1117, 1118, 1119, 1120, 1121, 1122,\n",
              "       1123, 1124, 1125, 1126, 1127, 1128, 1129, 1130, 1131, 1132, 1133,\n",
              "       1134, 1135, 1136, 1137, 1138, 1139, 1140, 1141, 1142, 1143, 1144,\n",
              "       1145, 1146, 1147, 1148, 1149, 1150, 1151, 1152, 1153, 1154, 1155,\n",
              "       1156, 1157, 1158, 1159, 1160, 1161, 1162, 1163, 1164, 1165, 1166,\n",
              "       1167, 1168, 1169, 1170, 1171, 1172, 1173, 1174, 1175, 1176, 1177,\n",
              "       1178, 1179, 1180, 1181, 1182, 1183, 1184, 1185, 1186, 1187, 1188,\n",
              "       1189, 1190, 1191, 1192, 1193, 1194, 1195, 1196, 1197, 1198, 1199,\n",
              "       1200, 1201, 1202, 1203, 1204, 1205, 1206, 1207, 1208, 1209, 1210,\n",
              "       1211, 1212, 1213, 1214, 1215, 1216, 1217, 1218, 1219, 1220, 1221,\n",
              "       1222, 1223, 1224, 1225, 1226, 1227, 1228, 1229, 1230, 1231, 1232,\n",
              "       1233, 1234, 1235, 1236, 1237, 1238, 1239, 1240, 1241, 1242, 1243,\n",
              "       1244, 1245, 1246, 1247, 1248, 1249, 1250, 1251, 1252, 1253, 1254,\n",
              "       1255, 1256, 1257, 1258, 1259, 1260, 1261, 1262, 1263, 1264, 1265,\n",
              "       1266, 1267, 1268, 1269, 1270, 1271, 1272, 1273, 1274, 1275, 1276,\n",
              "       1277, 1278, 1279, 1280, 1281, 1282, 1283, 1284, 1285, 1286, 1287,\n",
              "       1288, 1289, 1290, 1291, 1292, 1293, 1294, 1295, 1296, 1297, 1298,\n",
              "       1299, 1300, 1301, 1302, 1303, 1304, 1305, 1306, 1307, 1308, 1309])"
            ]
          },
          "metadata": {},
          "execution_count": 7
        }
      ]
    },
    {
      "cell_type": "code",
      "source": [
        "df_TitanicFromDisaster['Pclass'].unique()"
      ],
      "metadata": {
        "colab": {
          "base_uri": "https://localhost:8080/"
        },
        "id": "8aBfouV5QZRC",
        "outputId": "102327c0-d241-43eb-d3f2-7660b7da57e0"
      },
      "execution_count": 9,
      "outputs": [
        {
          "output_type": "execute_result",
          "data": {
            "text/plain": [
              "array([3, 2, 1])"
            ]
          },
          "metadata": {},
          "execution_count": 9
        }
      ]
    },
    {
      "cell_type": "code",
      "source": [
        "df_TitanicFromDisaster['Name'].unique()"
      ],
      "metadata": {
        "colab": {
          "base_uri": "https://localhost:8080/"
        },
        "id": "D52uRRn6Qdvp",
        "outputId": "f6a6a7a0-8a3f-4790-c1e4-b50f0d6918a0"
      },
      "execution_count": 10,
      "outputs": [
        {
          "output_type": "execute_result",
          "data": {
            "text/plain": [
              "array(['Kelly, Mr. James', 'Wilkes, Mrs. James (Ellen Needs)',\n",
              "       'Myles, Mr. Thomas Francis', 'Wirz, Mr. Albert',\n",
              "       'Hirvonen, Mrs. Alexander (Helga E Lindqvist)',\n",
              "       'Svensson, Mr. Johan Cervin', 'Connolly, Miss. Kate',\n",
              "       'Caldwell, Mr. Albert Francis',\n",
              "       'Abrahim, Mrs. Joseph (Sophie Halaut Easu)',\n",
              "       'Davies, Mr. John Samuel', 'Ilieff, Mr. Ylio',\n",
              "       'Jones, Mr. Charles Cresson',\n",
              "       'Snyder, Mrs. John Pillsbury (Nelle Stevenson)',\n",
              "       'Howard, Mr. Benjamin',\n",
              "       'Chaffee, Mrs. Herbert Fuller (Carrie Constance Toogood)',\n",
              "       'del Carlo, Mrs. Sebastiano (Argenia Genovesi)',\n",
              "       'Keane, Mr. Daniel', 'Assaf, Mr. Gerios',\n",
              "       'Ilmakangas, Miss. Ida Livija',\n",
              "       'Assaf Khalil, Mrs. Mariana (Miriam\")\"', 'Rothschild, Mr. Martin',\n",
              "       'Olsen, Master. Artur Karl',\n",
              "       'Flegenheim, Mrs. Alfred (Antoinette)',\n",
              "       'Williams, Mr. Richard Norris II',\n",
              "       'Ryerson, Mrs. Arthur Larned (Emily Maria Borie)',\n",
              "       'Robins, Mr. Alexander A', 'Ostby, Miss. Helene Ragnhild',\n",
              "       'Daher, Mr. Shedid', 'Brady, Mr. John Bertram',\n",
              "       'Samaan, Mr. Elias', 'Louch, Mr. Charles Alexander',\n",
              "       'Jefferys, Mr. Clifford Thomas',\n",
              "       'Dean, Mrs. Bertram (Eva Georgetta Light)',\n",
              "       'Johnston, Mrs. Andrew G (Elizabeth Lily\" Watson)\"',\n",
              "       'Mock, Mr. Philipp Edmund',\n",
              "       'Katavelas, Mr. Vassilios (Catavelas Vassilios\")\"',\n",
              "       'Roth, Miss. Sarah A', 'Cacic, Miss. Manda', 'Sap, Mr. Julius',\n",
              "       'Hee, Mr. Ling', 'Karun, Mr. Franz', 'Franklin, Mr. Thomas Parham',\n",
              "       'Goldsmith, Mr. Nathan', 'Corbett, Mrs. Walter H (Irene Colvin)',\n",
              "       'Kimball, Mrs. Edwin Nelson Jr (Gertrude Parsons)',\n",
              "       'Peltomaki, Mr. Nikolai Johannes', 'Chevre, Mr. Paul Romaine',\n",
              "       'Shaughnessy, Mr. Patrick',\n",
              "       'Bucknell, Mrs. William Robert (Emma Eliza Ward)',\n",
              "       'Coutts, Mrs. William (Winnie Minnie\" Treanor)\"',\n",
              "       'Smith, Mr. Lucien Philip', 'Pulbaum, Mr. Franz',\n",
              "       'Hocking, Miss. Ellen Nellie\"\"', 'Fortune, Miss. Ethel Flora',\n",
              "       'Mangiavacchi, Mr. Serafino Emilio', 'Rice, Master. Albert',\n",
              "       'Cor, Mr. Bartol', 'Abelseth, Mr. Olaus Jorgensen',\n",
              "       'Davison, Mr. Thomas Henry', 'Chaudanson, Miss. Victorine',\n",
              "       'Dika, Mr. Mirko', 'McCrae, Mr. Arthur Gordon',\n",
              "       'Bjorklund, Mr. Ernst Herbert', 'Bradley, Miss. Bridget Delia',\n",
              "       'Ryerson, Master. John Borie',\n",
              "       'Corey, Mrs. Percy C (Mary Phyllis Elizabeth Miller)',\n",
              "       'Burns, Miss. Mary Delia', 'Moore, Mr. Clarence Bloomfield',\n",
              "       'Tucker, Mr. Gilbert Milligan Jr',\n",
              "       'Fortune, Mrs. Mark (Mary McDougald)', 'Mulvihill, Miss. Bertha E',\n",
              "       'Minkoff, Mr. Lazar', 'Nieminen, Miss. Manta Josefina',\n",
              "       'Ovies y Rodriguez, Mr. Servando', 'Geiger, Miss. Amalie',\n",
              "       'Keeping, Mr. Edwin', 'Miles, Mr. Frank',\n",
              "       'Cornell, Mrs. Robert Clifford (Malvina Helen Lamson)',\n",
              "       'Aldworth, Mr. Charles Augustus', 'Doyle, Miss. Elizabeth',\n",
              "       'Boulos, Master. Akar', 'Straus, Mr. Isidor',\n",
              "       'Case, Mr. Howard Brown', 'Demetri, Mr. Marinko',\n",
              "       'Lamb, Mr. John Joseph', 'Khalil, Mr. Betros',\n",
              "       'Barry, Miss. Julia', 'Badman, Miss. Emily Louisa',\n",
              "       \"O'Donoghue, Ms. Bridget\", 'Wells, Master. Ralph Lester',\n",
              "       'Dyker, Mrs. Adolf Fredrik (Anna Elisabeth Judith Andersson)',\n",
              "       'Pedersen, Mr. Olaf', 'Davidson, Mrs. Thornton (Orian Hays)',\n",
              "       'Guest, Mr. Robert', 'Birnbaum, Mr. Jakob',\n",
              "       'Tenglin, Mr. Gunnar Isidor',\n",
              "       'Cavendish, Mrs. Tyrell William (Julia Florence Siegel)',\n",
              "       'Makinen, Mr. Kalle Edvard', 'Braf, Miss. Elin Ester Maria',\n",
              "       'Nancarrow, Mr. William Henry',\n",
              "       'Stengel, Mrs. Charles Emil Henry (Annie May Morris)',\n",
              "       'Weisz, Mr. Leopold', 'Foley, Mr. William',\n",
              "       'Johansson Palmquist, Mr. Oskar Leander',\n",
              "       'Thomas, Mrs. Alexander (Thamine Thelma\")\"',\n",
              "       'Holthen, Mr. Johan Martin', 'Buckley, Mr. Daniel',\n",
              "       'Ryan, Mr. Edward', 'Willer, Mr. Aaron (Abi Weller\")\"',\n",
              "       'Swane, Mr. George', 'Stanton, Mr. Samuel Ward',\n",
              "       'Shine, Miss. Ellen Natalia', 'Evans, Miss. Edith Corse',\n",
              "       'Buckley, Miss. Katherine',\n",
              "       'Straus, Mrs. Isidor (Rosalie Ida Blun)',\n",
              "       'Chronopoulos, Mr. Demetrios', 'Thomas, Mr. John',\n",
              "       'Sandstrom, Miss. Beatrice Irene', 'Beattie, Mr. Thomson',\n",
              "       'Chapman, Mrs. John Henry (Sara Elizabeth Lawry)',\n",
              "       'Watt, Miss. Bertha J', 'Kiernan, Mr. John',\n",
              "       'Schabert, Mrs. Paul (Emma Mock)', 'Carver, Mr. Alfred John',\n",
              "       'Kennedy, Mr. John', 'Cribb, Miss. Laura Alice',\n",
              "       'Brobeck, Mr. Karl Rudolf', 'McCoy, Miss. Alicia',\n",
              "       'Bowenur, Mr. Solomon', 'Petersen, Mr. Marius',\n",
              "       'Spinner, Mr. Henry John', 'Gracie, Col. Archibald IV',\n",
              "       'Lefebre, Mrs. Frank (Frances)', 'Thomas, Mr. Charles P',\n",
              "       'Dintcheff, Mr. Valtcho', 'Carlsson, Mr. Carl Robert',\n",
              "       'Zakarian, Mr. Mapriededer', 'Schmidt, Mr. August',\n",
              "       'Drapkin, Miss. Jennie', 'Goodwin, Mr. Charles Frederick',\n",
              "       'Goodwin, Miss. Jessie Allis', 'Daniels, Miss. Sarah',\n",
              "       'Ryerson, Mr. Arthur Larned', 'Beauchamp, Mr. Henry James',\n",
              "       'Lindeberg-Lind, Mr. Erik Gustaf (Mr Edward Lingrey\")\"',\n",
              "       'Vander Planke, Mr. Julius', 'Hilliard, Mr. Herbert Henry',\n",
              "       'Davies, Mr. Evan', 'Crafton, Mr. John Bertram',\n",
              "       'Lahtinen, Rev. William', 'Earnshaw, Mrs. Boulton (Olive Potter)',\n",
              "       'Matinoff, Mr. Nicola', 'Storey, Mr. Thomas',\n",
              "       'Klasen, Mrs. (Hulda Kristina Eugenia Lofqvist)',\n",
              "       'Asplund, Master. Filip Oscar', 'Duquemin, Mr. Joseph',\n",
              "       'Bird, Miss. Ellen', 'Lundin, Miss. Olga Elida',\n",
              "       'Borebank, Mr. John James', 'Peacock, Mrs. Benjamin (Edith Nile)',\n",
              "       'Smyth, Miss. Julia', 'Touma, Master. Georges Youssef',\n",
              "       'Wright, Miss. Marion', 'Pearce, Mr. Ernest',\n",
              "       'Peruschitz, Rev. Joseph Maria',\n",
              "       'Kink-Heilmann, Mrs. Anton (Luise Heilmann)', 'Brandeis, Mr. Emil',\n",
              "       'Ford, Mr. Edward Watson',\n",
              "       'Cassebeer, Mrs. Henry Arthur Jr (Eleanor Genevieve Fosdick)',\n",
              "       'Hellstrom, Miss. Hilda Maria', 'Lithman, Mr. Simon',\n",
              "       'Zakarian, Mr. Ortin', 'Dyker, Mr. Adolf Fredrik',\n",
              "       'Torfa, Mr. Assad', 'Asplund, Mr. Carl Oscar Vilhelm Gustafsson',\n",
              "       'Brown, Miss. Edith Eileen', 'Sincock, Miss. Maude',\n",
              "       'Stengel, Mr. Charles Emil Henry',\n",
              "       'Becker, Mrs. Allen Oliver (Nellie E Baumgardner)',\n",
              "       'Compton, Mrs. Alexander Taylor (Mary Eliza Ingersoll)',\n",
              "       'McCrie, Mr. James Matthew', 'Compton, Mr. Alexander Taylor Jr',\n",
              "       'Marvin, Mrs. Daniel Warner (Mary Graham Carmichael Farquarson)',\n",
              "       'Lane, Mr. Patrick',\n",
              "       'Douglas, Mrs. Frederick Charles (Mary Helene Baxter)',\n",
              "       'Maybery, Mr. Frank Hubert',\n",
              "       'Phillips, Miss. Alice Frances Louisa', 'Davies, Mr. Joseph',\n",
              "       'Sage, Miss. Ada', 'Veal, Mr. James', 'Angle, Mr. William A',\n",
              "       'Salomon, Mr. Abraham L', 'van Billiard, Master. Walter John',\n",
              "       'Lingane, Mr. John', 'Drew, Master. Marshall Brines',\n",
              "       'Karlsson, Mr. Julius Konrad Eugen',\n",
              "       'Spedden, Master. Robert Douglas', 'Nilsson, Miss. Berta Olivia',\n",
              "       'Baimbrigge, Mr. Charles Robert',\n",
              "       'Rasmussen, Mrs. (Lena Jacobsen Solvang)', 'Murphy, Miss. Nora',\n",
              "       'Danbom, Master. Gilbert Sigvard Emanuel',\n",
              "       'Astor, Col. John Jacob', 'Quick, Miss. Winifred Vera',\n",
              "       'Andrew, Mr. Frank Thomas', 'Omont, Mr. Alfred Fernand',\n",
              "       'McGowan, Miss. Katherine', 'Collett, Mr. Sidney C Stuart',\n",
              "       'Rosenbaum, Miss. Edith Louise', 'Delalic, Mr. Redjo',\n",
              "       'Andersen, Mr. Albert Karvin', 'Finoli, Mr. Luigi',\n",
              "       'Deacon, Mr. Percy William',\n",
              "       'Howard, Mrs. Benjamin (Ellen Truelove Arman)',\n",
              "       'Andersson, Miss. Ida Augusta Margareta', 'Head, Mr. Christopher',\n",
              "       'Mahon, Miss. Bridget Delia', 'Wick, Mr. George Dennick',\n",
              "       'Widener, Mrs. George Dunton (Eleanor Elkins)',\n",
              "       'Thomson, Mr. Alexander Morrison',\n",
              "       'Duran y More, Miss. Florentina', 'Reynolds, Mr. Harold J',\n",
              "       'Cook, Mrs. (Selena Rogers)', 'Karlsson, Mr. Einar Gervasius',\n",
              "       'Candee, Mrs. Edward (Helen Churchill Hungerford)',\n",
              "       'Moubarek, Mrs. George (Omine Amenia\" Alexander)\"',\n",
              "       'Asplund, Mr. Johan Charles', 'McNeill, Miss. Bridget',\n",
              "       'Everett, Mr. Thomas James', 'Hocking, Mr. Samuel James Metcalfe',\n",
              "       'Sweet, Mr. George Frederick', 'Willard, Miss. Constance',\n",
              "       'Wiklund, Mr. Karl Johan', 'Linehan, Mr. Michael',\n",
              "       'Cumings, Mr. John Bradley', 'Vendel, Mr. Olof Edvin',\n",
              "       'Warren, Mr. Frank Manley', 'Baccos, Mr. Raffull',\n",
              "       'Hiltunen, Miss. Marta',\n",
              "       'Douglas, Mrs. Walter Donald (Mahala Dutton)',\n",
              "       'Lindstrom, Mrs. Carl Johan (Sigrid Posse)',\n",
              "       'Christy, Mrs. (Alice Frances)', 'Spedden, Mr. Frederic Oakley',\n",
              "       'Hyman, Mr. Abraham', 'Johnston, Master. William Arthur Willie\"\"',\n",
              "       'Kenyon, Mr. Frederick R', 'Karnes, Mrs. J Frank (Claire Bennett)',\n",
              "       'Drew, Mr. James Vivian',\n",
              "       'Hold, Mrs. Stephen (Annie Margaret Hill)',\n",
              "       'Khalil, Mrs. Betros (Zahie Maria\" Elias)\"',\n",
              "       'West, Miss. Barbara J',\n",
              "       'Abrahamsson, Mr. Abraham August Johannes',\n",
              "       'Clark, Mr. Walter Miller', 'Salander, Mr. Karl Johan',\n",
              "       'Wenzel, Mr. Linhart', 'MacKay, Mr. George William',\n",
              "       'Mahon, Mr. John', 'Niklasson, Mr. Samuel',\n",
              "       'Bentham, Miss. Lilian W', 'Midtsjo, Mr. Karl Albert',\n",
              "       'de Messemaeker, Mr. Guillaume Joseph',\n",
              "       'Nilsson, Mr. August Ferdinand',\n",
              "       'Wells, Mrs. Arthur Henry (Addie\" Dart Trevaskis)\"',\n",
              "       'Klasen, Miss. Gertrud Emilia',\n",
              "       'Portaluppi, Mr. Emilio Ilario Giuseppe', 'Lyntakoff, Mr. Stanko',\n",
              "       'Chisholm, Mr. Roderick Robert Crispin',\n",
              "       'Warren, Mr. Charles William', 'Howard, Miss. May Elizabeth',\n",
              "       'Pokrnic, Mr. Mate', 'McCaffry, Mr. Thomas Francis',\n",
              "       'Fox, Mr. Patrick',\n",
              "       'Clark, Mrs. Walter Miller (Virginia McDowell)',\n",
              "       'Lennon, Miss. Mary', 'Saade, Mr. Jean Nassr',\n",
              "       'Bryhl, Miss. Dagmar Jenny Ingeborg ',\n",
              "       'Parker, Mr. Clifford Richard', 'Faunthorpe, Mr. Harry',\n",
              "       'Ware, Mr. John James', 'Oxenham, Mr. Percy Thomas',\n",
              "       'Oreskovic, Miss. Jelka', 'Peacock, Master. Alfred Edward',\n",
              "       'Fleming, Miss. Honora', 'Touma, Miss. Maria Youssef',\n",
              "       'Rosblom, Miss. Salli Helena', 'Dennis, Mr. William',\n",
              "       'Franklin, Mr. Charles (Charles Fardon)',\n",
              "       'Snyder, Mr. John Pillsbury', 'Mardirosian, Mr. Sarkis',\n",
              "       'Ford, Mr. Arthur', 'Rheims, Mr. George Alexander Lucien',\n",
              "       'Daly, Miss. Margaret Marcella Maggie\"\"', 'Nasr, Mr. Mustafa',\n",
              "       'Dodge, Dr. Washington', 'Wittevrongel, Mr. Camille',\n",
              "       'Angheloff, Mr. Minko', 'Laroche, Miss. Louise',\n",
              "       'Samaan, Mr. Hanna', 'Loring, Mr. Joseph Holland',\n",
              "       'Johansson, Mr. Nils', 'Olsson, Mr. Oscar Wilhelm',\n",
              "       'Malachard, Mr. Noel', 'Phillips, Mr. Escott Robert',\n",
              "       'Pokrnic, Mr. Tome', 'McCarthy, Miss. Catherine Katie\"\"',\n",
              "       'Crosby, Mrs. Edward Gifford (Catherine Elizabeth Halstead)',\n",
              "       'Allison, Mr. Hudson Joshua Creighton',\n",
              "       'Aks, Master. Philip Frank', 'Hays, Mr. Charles Melville',\n",
              "       'Hansen, Mrs. Claus Peter (Jennie L Howard)',\n",
              "       'Cacic, Mr. Jego Grga', 'Vartanian, Mr. David',\n",
              "       'Sadowitz, Mr. Harry', 'Carr, Miss. Jeannie',\n",
              "       'White, Mrs. John Stuart (Ella Holmes)', 'Hagardon, Miss. Kate',\n",
              "       'Spencer, Mr. William Augustus', 'Rogers, Mr. Reginald Harry',\n",
              "       'Jonsson, Mr. Nils Hilding', 'Jefferys, Mr. Ernest Wilfred',\n",
              "       'Andersson, Mr. Johan Samuel', 'Krekorian, Mr. Neshan',\n",
              "       'Nesson, Mr. Israel', 'Rowe, Mr. Alfred G',\n",
              "       'Kreuchen, Miss. Emilie', 'Assam, Mr. Ali',\n",
              "       'Becker, Miss. Ruth Elizabeth',\n",
              "       'Rosenshine, Mr. George (Mr George Thorne\")\"',\n",
              "       'Clarke, Mr. Charles Valentine', 'Enander, Mr. Ingvar',\n",
              "       'Davies, Mrs. John Morgan (Elizabeth Agnes Mary White) ',\n",
              "       'Dulles, Mr. William Crothers', 'Thomas, Mr. Tannous',\n",
              "       'Nakid, Mrs. Said (Waika Mary\" Mowad)\"', 'Cor, Mr. Ivan',\n",
              "       'Maguire, Mr. John Edward', 'de Brito, Mr. Jose Joaquim',\n",
              "       'Elias, Mr. Joseph', 'Denbury, Mr. Herbert',\n",
              "       'Betros, Master. Seman', 'Fillbrook, Mr. Joseph Charles',\n",
              "       'Lundstrom, Mr. Thure Edvin', 'Sage, Mr. John George',\n",
              "       'Cardeza, Mrs. James Warburton Martinez (Charlotte Wardle Drake)',\n",
              "       'van Billiard, Master. James William',\n",
              "       'Abelseth, Miss. Karen Marie', 'Botsford, Mr. William Hull',\n",
              "       'Whabee, Mrs. George Joseph (Shawneene Abi-Saab)',\n",
              "       'Giles, Mr. Ralph', 'Walcroft, Miss. Nellie',\n",
              "       'Greenfield, Mrs. Leo David (Blanche Strouse)',\n",
              "       'Stokes, Mr. Philip Joseph', 'Dibden, Mr. William',\n",
              "       'Herman, Mr. Samuel', 'Dean, Miss. Elizabeth Gladys Millvina\"\"',\n",
              "       'Julian, Mr. Henry Forbes',\n",
              "       'Brown, Mrs. John Murray (Caroline Lane Lamson)',\n",
              "       'Lockyer, Mr. Edward', \"O'Keefe, Mr. Patrick\",\n",
              "       'Lindell, Mrs. Edvard Bengtsson (Elin Gerda Persson)',\n",
              "       'Sage, Master. William Henry',\n",
              "       'Mallet, Mrs. Albert (Antoinette Magnin)',\n",
              "       'Ware, Mrs. John James (Florence Louise Long)',\n",
              "       'Strilic, Mr. Ivan',\n",
              "       'Harder, Mrs. George Achilles (Dorothy Annan)',\n",
              "       'Sage, Mrs. John (Annie Bullen)', 'Caram, Mr. Joseph',\n",
              "       'Riihivouri, Miss. Susanna Juhantytar Sanni\"\"',\n",
              "       'Gibson, Mrs. Leonard (Pauline C Boeson)',\n",
              "       'Pallas y Castello, Mr. Emilio', 'Giles, Mr. Edgar',\n",
              "       'Wilson, Miss. Helen Alice', 'Ismay, Mr. Joseph Bruce',\n",
              "       'Harbeck, Mr. William H', 'Dodge, Mrs. Washington (Ruth Vidaver)',\n",
              "       'Bowen, Miss. Grace Scott', 'Kink, Miss. Maria',\n",
              "       'Cotterill, Mr. Henry Harry\"\"', 'Hipkins, Mr. William Edward',\n",
              "       'Asplund, Master. Carl Edgar', \"O'Connor, Mr. Patrick\",\n",
              "       'Foley, Mr. Joseph', 'Risien, Mrs. Samuel (Emma)',\n",
              "       \"McNamee, Mrs. Neal (Eileen O'Leary)\",\n",
              "       'Wheeler, Mr. Edwin Frederick\"\"', 'Herman, Miss. Kate',\n",
              "       'Aronsson, Mr. Ernst Axel Algot', 'Ashby, Mr. John',\n",
              "       'Canavan, Mr. Patrick', 'Palsson, Master. Paul Folke',\n",
              "       'Payne, Mr. Vivian Ponsonby',\n",
              "       'Lines, Mrs. Ernest H (Elizabeth Lindsey James)',\n",
              "       'Abbott, Master. Eugene Joseph', 'Gilbert, Mr. William',\n",
              "       'Kink-Heilmann, Mr. Anton',\n",
              "       'Smith, Mrs. Lucien Philip (Mary Eloise Hughes)',\n",
              "       'Colbert, Mr. Patrick',\n",
              "       'Frolicher-Stehli, Mrs. Maxmillian (Margaretha Emerentia Stehli)',\n",
              "       'Larsson-Rondberg, Mr. Edvard A', 'Conlon, Mr. Thomas Henry',\n",
              "       'Bonnell, Miss. Caroline', 'Gale, Mr. Harry',\n",
              "       'Gibson, Miss. Dorothy Winifred', 'Carrau, Mr. Jose Pedro',\n",
              "       'Frauenthal, Mr. Isaac Gerald',\n",
              "       'Nourney, Mr. Alfred (Baron von Drachstedt\")\"',\n",
              "       'Ware, Mr. William Jeffery', 'Widener, Mr. George Dunton',\n",
              "       'Riordan, Miss. Johanna Hannah\"\"', 'Peacock, Miss. Treasteall',\n",
              "       'Naughton, Miss. Hannah',\n",
              "       'Minahan, Mrs. William Edward (Lillian E Thorpe)',\n",
              "       'Henriksson, Miss. Jenny Lovisa', 'Spector, Mr. Woolf',\n",
              "       'Oliva y Ocana, Dona. Fermina', 'Saether, Mr. Simon Sivertsen',\n",
              "       'Ware, Mr. Frederick', 'Peter, Master. Michael J'], dtype=object)"
            ]
          },
          "metadata": {},
          "execution_count": 10
        }
      ]
    },
    {
      "cell_type": "code",
      "source": [
        "df_TitanicFromDisaster['Sex'].unique()"
      ],
      "metadata": {
        "colab": {
          "base_uri": "https://localhost:8080/"
        },
        "id": "-MtFdyt5QkFK",
        "outputId": "dc22234b-bc54-4772-87a4-42dcecd41ee1"
      },
      "execution_count": 11,
      "outputs": [
        {
          "output_type": "execute_result",
          "data": {
            "text/plain": [
              "array(['male', 'female'], dtype=object)"
            ]
          },
          "metadata": {},
          "execution_count": 11
        }
      ]
    },
    {
      "cell_type": "code",
      "source": [
        "df_TitanicFromDisaster['Age'].unique()"
      ],
      "metadata": {
        "colab": {
          "base_uri": "https://localhost:8080/"
        },
        "id": "AmSSGrguQxxq",
        "outputId": "b4483fb5-0498-4681-c30a-f10fbe7cdc14"
      },
      "execution_count": 12,
      "outputs": [
        {
          "output_type": "execute_result",
          "data": {
            "text/plain": [
              "array([34.5 , 47.  , 62.  , 27.  , 22.  , 14.  , 30.  , 26.  , 18.  ,\n",
              "       21.  ,   nan, 46.  , 23.  , 63.  , 24.  , 35.  , 45.  , 55.  ,\n",
              "        9.  , 48.  , 50.  , 22.5 , 41.  , 33.  , 18.5 , 25.  , 39.  ,\n",
              "       60.  , 36.  , 20.  , 28.  , 10.  , 17.  , 32.  , 13.  , 31.  ,\n",
              "       29.  , 28.5 , 32.5 ,  6.  , 67.  , 49.  ,  2.  , 76.  , 43.  ,\n",
              "       16.  ,  1.  , 12.  , 42.  , 53.  , 26.5 , 40.  , 61.  , 60.5 ,\n",
              "        7.  , 15.  , 54.  , 64.  , 37.  , 34.  , 11.5 ,  8.  ,  0.33,\n",
              "       38.  , 57.  , 40.5 ,  0.92, 19.  , 36.5 ,  0.75,  0.83, 58.  ,\n",
              "        0.17, 59.  , 14.5 , 44.  ,  5.  , 51.  ,  3.  , 38.5 ])"
            ]
          },
          "metadata": {},
          "execution_count": 12
        }
      ]
    },
    {
      "cell_type": "code",
      "source": [
        "df_TitanicFromDisaster['SibSp'].unique()"
      ],
      "metadata": {
        "colab": {
          "base_uri": "https://localhost:8080/"
        },
        "id": "J_EhHFHDQzMC",
        "outputId": "554d2d3a-cb19-4bf1-afc0-674b74000a22"
      },
      "execution_count": 13,
      "outputs": [
        {
          "output_type": "execute_result",
          "data": {
            "text/plain": [
              "array([0, 1, 2, 3, 4, 5, 8])"
            ]
          },
          "metadata": {},
          "execution_count": 13
        }
      ]
    },
    {
      "cell_type": "code",
      "source": [
        "df_TitanicFromDisaster['Parch'].unique()"
      ],
      "metadata": {
        "colab": {
          "base_uri": "https://localhost:8080/"
        },
        "id": "wp55O9z0Q09i",
        "outputId": "cbbd88a6-c60f-400c-c4a9-cb202f717dd3"
      },
      "execution_count": 14,
      "outputs": [
        {
          "output_type": "execute_result",
          "data": {
            "text/plain": [
              "array([0, 1, 3, 2, 4, 6, 5, 9])"
            ]
          },
          "metadata": {},
          "execution_count": 14
        }
      ]
    },
    {
      "cell_type": "code",
      "source": [
        "df_TitanicFromDisaster['Ticket'].unique()"
      ],
      "metadata": {
        "colab": {
          "base_uri": "https://localhost:8080/"
        },
        "id": "ffEnssr-Q2d5",
        "outputId": "65455963-6cb6-4f2a-ba39-a482dd7665de"
      },
      "execution_count": 15,
      "outputs": [
        {
          "output_type": "execute_result",
          "data": {
            "text/plain": [
              "array(['330911', '363272', '240276', '315154', '3101298', '7538',\n",
              "       '330972', '248738', '2657', 'A/4 48871', '349220', '694', '21228',\n",
              "       '24065', 'W.E.P. 5734', 'SC/PARIS 2167', '233734', '2692',\n",
              "       'STON/O2. 3101270', '2696', 'PC 17603', 'C 17368', 'PC 17598',\n",
              "       'PC 17597', 'PC 17608', 'A/5. 3337', '113509', '2698', '113054',\n",
              "       '2662', 'SC/AH 3085', 'C.A. 31029', 'C.A. 2315', 'W./C. 6607',\n",
              "       '13236', '2682', '342712', '315087', '345768', '1601', '349256',\n",
              "       '113778', 'SOTON/O.Q. 3101263', '237249', '11753',\n",
              "       'STON/O 2. 3101291', 'PC 17594', '370374', '11813', 'C.A. 37671',\n",
              "       '13695', 'SC/PARIS 2168', '29105', '19950', 'SC/A.3 2861',\n",
              "       '382652', '349230', '348122', '386525', '349232', '237216',\n",
              "       '347090', '334914', 'F.C.C. 13534', '330963', '113796', '2543',\n",
              "       '382653', '349211', '3101297', 'PC 17562', '113503', '359306',\n",
              "       '11770', '248744', '368702', '2678', 'PC 17483', '19924', '349238',\n",
              "       '240261', '2660', '330844', 'A/4 31416', '364856', '29103',\n",
              "       '347072', '345498', 'F.C. 12750', '376563', '13905', '350033',\n",
              "       '19877', 'STON/O 2. 3101268', '347471', 'A./5. 3338', '11778',\n",
              "       '228414', '365235', '347070', '2625', 'C 4001', '330920', '383162',\n",
              "       '3410', '248734', '237734', '330968', 'PC 17531', '329944', '2680',\n",
              "       '2681', 'PP 9549', '13050', 'SC/AH 29037', 'C.A. 33595', '367227',\n",
              "       '392095', '368783', '371362', '350045', '367226', '211535',\n",
              "       '342441', 'STON/OQ. 369943', '113780', '4133', '2621', '349226',\n",
              "       '350409', '2656', '248659', 'SOTON/OQ 392083', 'CA 2144', '113781',\n",
              "       '244358', '17475', '345763', '17463', 'SC/A4 23568', '113791',\n",
              "       '250651', '11767', '349255', '3701', '350405', '347077',\n",
              "       'S.O./P.P. 752', '347469', '110489', 'SOTON/O.Q. 3101315',\n",
              "       '335432', '2650', '220844', '343271', '237393', '315153',\n",
              "       'PC 17591', 'W./C. 6608', '17770', '7548', 'S.O./P.P. 251', '2670',\n",
              "       '2673', '29750', 'C.A. 33112', '230136', 'PC 17756', '233478',\n",
              "       '113773', '7935', 'PC 17558', '239059', 'S.O./P.P. 2', 'A/4 48873',\n",
              "       'CA. 2343', '28221', '226875', '111163', 'A/5. 851', '235509',\n",
              "       '28220', '347465', '16966', '347066', 'C.A. 31030', '65305',\n",
              "       '36568', '347080', 'PC 17757', '26360', 'C.A. 34050', 'F.C. 12998',\n",
              "       '9232', '28034', 'PC 17613', '349250', 'SOTON/O.Q. 3101308',\n",
              "       'S.O.C. 14879', '347091', '113038', '330924', '36928', '32302',\n",
              "       'SC/PARIS 2148', '342684', 'W./C. 14266', '350053', 'PC 17606',\n",
              "       '2661', '350054', '370368', 'C.A. 6212', '242963', '220845',\n",
              "       '113795', '3101266', '330971', 'PC 17599', '350416', '110813',\n",
              "       '2679', '250650', 'PC 17761', '112377', '237789', '3470', '17464',\n",
              "       '26707', 'C.A. 34651', 'SOTON/O2 3101284', '13508', '7266',\n",
              "       '345775', 'C.A. 42795', 'AQ/4 3130', '363611', '28404', '345501',\n",
              "       '345572', '350410', 'C.A. 34644', '349235', '112051', 'C.A. 49867',\n",
              "       'A. 2. 39186', '315095', '368573', '370371', '2676', '236853',\n",
              "       'SC 14888', '2926', 'CA 31352', 'W./C. 14260', '315085', '364859',\n",
              "       '370129', 'A/5 21175', 'SOTON/O.Q. 3101314', '2655', 'A/5 1478',\n",
              "       'PC 17607', '382650', '2652', '33638', '345771', '349202',\n",
              "       'SC/Paris 2123', '113801', '347467', '347079', '237735', '315092',\n",
              "       '383123', '112901', '392091', '12749', '350026', '315091', '2658',\n",
              "       'LP 1588', '368364', 'PC 17760', 'AQ/3. 30631', 'PC 17569',\n",
              "       '28004', '350408', '347075', '2654', '244368', '113790', '24160',\n",
              "       'SOTON/O.Q. 3101309', 'PC 17585', '2003', '236854', 'PC 17580',\n",
              "       '2684', '2653', '349229', '110469', '244360', '2675', '2622',\n",
              "       'C.A. 15185', '350403', 'PC 17755', '348125', '237670', '2688',\n",
              "       '248726', 'F.C.C. 13528', 'PC 17759', 'F.C.C. 13540', '113044',\n",
              "       '11769', '1222', '368402', '349910', 'S.C./PARIS 2079', '315083',\n",
              "       '11765', '2689', '3101295', '112378', 'SC/PARIS 2147', '28133',\n",
              "       '112058', '248746', '315152', '29107', '680', '366713', '330910',\n",
              "       '364498', '376566', 'SC/PARIS 2159', '349911', '244346', '364858',\n",
              "       '349909', 'PC 17592', 'C.A. 2673', 'C.A. 30769', '371109', '13567',\n",
              "       '347065', '21332', '28664', '113059', '17765', 'SC/PARIS 2166',\n",
              "       '28666', '334915', '365237', '19928', '347086', 'A.5. 3236',\n",
              "       'PC 17758', 'SOTON/O.Q. 3101262', '359309', '2668'], dtype=object)"
            ]
          },
          "metadata": {},
          "execution_count": 15
        }
      ]
    },
    {
      "cell_type": "code",
      "source": [
        "df_TitanicFromDisaster['Fare'].unique()"
      ],
      "metadata": {
        "colab": {
          "base_uri": "https://localhost:8080/"
        },
        "id": "QOIXjZu6Q376",
        "outputId": "31e7f23b-4690-4f72-d6f8-745a017aab01"
      },
      "execution_count": 16,
      "outputs": [
        {
          "output_type": "execute_result",
          "data": {
            "text/plain": [
              "array([  7.8292,   7.    ,   9.6875,   8.6625,  12.2875,   9.225 ,\n",
              "         7.6292,  29.    ,   7.2292,  24.15  ,   7.8958,  26.    ,\n",
              "        82.2667,  61.175 ,  27.7208,  12.35  ,   7.225 ,   7.925 ,\n",
              "        59.4   ,   3.1708,  31.6833,  61.3792, 262.375 ,  14.5   ,\n",
              "        61.9792,  30.5   ,  21.6792,  31.5   ,  20.575 ,  23.45  ,\n",
              "        57.75  ,   8.05  ,   9.5   ,  56.4958,  13.4167,  26.55  ,\n",
              "         7.85  ,  13.    ,  52.5542,  29.7   ,   7.75  ,  76.2917,\n",
              "        15.9   ,  60.    ,  15.0333,  23.    , 263.    ,  15.5792,\n",
              "        29.125 ,   7.65  ,  16.1   ,  13.5   ,   7.725 ,  21.    ,\n",
              "         7.8792,  42.4   ,  28.5375, 211.5   ,  25.7   ,  15.2458,\n",
              "       221.7792,  10.7083,  14.4542,  13.9   ,   7.775 ,  52.    ,\n",
              "         7.7958,  78.85  ,   7.8542,  55.4417,   8.5167,  22.525 ,\n",
              "         7.8208,   8.7125,  15.0458,   7.7792,  31.6792,   7.2833,\n",
              "         6.4375,  16.7   ,  75.2417,  15.75  ,   7.25  ,  23.25  ,\n",
              "        28.5   ,  25.4667,  46.9   , 151.55  ,  18.    ,  51.8625,\n",
              "        83.1583,      nan,  12.1833,  31.3875,   7.55  ,  13.775 ,\n",
              "         7.7333,  22.025 ,  50.4958,  34.375 ,   8.9625,  39.    ,\n",
              "        36.75  ,  53.1   , 247.5208,  16.    ,  69.55  ,  32.5   ,\n",
              "       134.5   ,  10.5   ,   8.1125,  15.5   ,  14.4   , 227.525 ,\n",
              "        25.7417,   7.05  ,  73.5   ,  42.5   , 164.8667,  13.8583,\n",
              "        27.4458,  15.1   ,  65.    ,   6.4958,  71.2833,  75.25  ,\n",
              "       106.425 ,  30.    ,   7.8875,  27.75  , 136.7792,   9.325 ,\n",
              "        17.4   ,  12.7375,   0.    ,  20.2125,  39.6   ,   6.95  ,\n",
              "        81.8583,  41.5792,  45.5   ,   9.35  ,  93.5   ,  14.1083,\n",
              "         7.575 , 135.6333, 146.5208, 211.3375,  79.2   ,  15.7417,\n",
              "         7.5792, 512.3292,  63.3583,  51.4792,  15.55  ,  37.0042,\n",
              "        14.4583,  39.6875,  11.5   ,  50.    ,  12.875 ,  21.075 ,\n",
              "        39.4   ,  20.25  ,  47.1   ,  13.8625,   7.7208,  90.    ,\n",
              "       108.9   ,  22.3583])"
            ]
          },
          "metadata": {},
          "execution_count": 16
        }
      ]
    },
    {
      "cell_type": "code",
      "source": [
        "df_TitanicFromDisaster['Cabin'].unique()"
      ],
      "metadata": {
        "colab": {
          "base_uri": "https://localhost:8080/"
        },
        "id": "XvwRe-SJQ5xZ",
        "outputId": "85d40ff1-524d-4c20-a3b5-7c8be47c723d"
      },
      "execution_count": 17,
      "outputs": [
        {
          "output_type": "execute_result",
          "data": {
            "text/plain": [
              "array([nan, 'B45', 'E31', 'B57 B59 B63 B66', 'B36', 'A21', 'C78', 'D34',\n",
              "       'D19', 'A9', 'D15', 'C31', 'C23 C25 C27', 'F G63', 'B61', 'C53',\n",
              "       'D43', 'C130', 'C132', 'C101', 'C55 C57', 'B71', 'C46', 'C116',\n",
              "       'F', 'A29', 'G6', 'C6', 'C28', 'C51', 'E46', 'C54', 'C97', 'D22',\n",
              "       'B10', 'F4', 'E45', 'E52', 'D30', 'B58 B60', 'E34', 'C62 C64',\n",
              "       'A11', 'B11', 'C80', 'F33', 'C85', 'D37', 'C86', 'D21', 'C89',\n",
              "       'F E46', 'A34', 'D', 'B26', 'C22 C26', 'B69', 'C32', 'B78',\n",
              "       'F E57', 'F2', 'A18', 'C106', 'B51 B53 B55', 'D10 D12', 'E60',\n",
              "       'E50', 'E39 E41', 'B52 B54 B56', 'C39', 'B24', 'D28', 'B41', 'C7',\n",
              "       'D40', 'D38', 'C105'], dtype=object)"
            ]
          },
          "metadata": {},
          "execution_count": 17
        }
      ]
    },
    {
      "cell_type": "code",
      "source": [
        "df_TitanicFromDisaster['Embarked'].unique()"
      ],
      "metadata": {
        "colab": {
          "base_uri": "https://localhost:8080/"
        },
        "id": "z4RbI88SQ7Ui",
        "outputId": "6c0034d8-ff7c-411e-b5cb-20a6e7f30ea5"
      },
      "execution_count": 18,
      "outputs": [
        {
          "output_type": "execute_result",
          "data": {
            "text/plain": [
              "array(['Q', 'S', 'C'], dtype=object)"
            ]
          },
          "metadata": {},
          "execution_count": 18
        }
      ]
    },
    {
      "cell_type": "code",
      "source": [],
      "metadata": {
        "id": "GSlLXLNJQ82q"
      },
      "execution_count": null,
      "outputs": []
    }
  ]
}