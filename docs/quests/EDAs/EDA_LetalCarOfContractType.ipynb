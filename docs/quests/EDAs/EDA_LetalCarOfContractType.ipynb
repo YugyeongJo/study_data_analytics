{
  "nbformat": 4,
  "nbformat_minor": 0,
  "metadata": {
    "colab": {
      "provenance": [],
      "authorship_tag": "ABX9TyMYNiDQ2noRgVCR3IuKYOOo",
      "include_colab_link": true
    },
    "kernelspec": {
      "name": "python3",
      "display_name": "Python 3"
    },
    "language_info": {
      "name": "python"
    }
  },
  "cells": [
    {
      "cell_type": "markdown",
      "metadata": {
        "id": "view-in-github",
        "colab_type": "text"
      },
      "source": [
        "<a href=\"https://colab.research.google.com/github/YugyeongJo/study_data_analytics/blob/main/docs/quests/EDAs/EDA_LetalCarOfContractType.ipynb\" target=\"_parent\"><img src=\"https://colab.research.google.com/assets/colab-badge.svg\" alt=\"Open In Colab\"/></a>"
      ]
    },
    {
      "cell_type": "code",
      "source": [
        "### 한글 폰트 설치\n",
        "!apt-get install -y fonts-nanum\n",
        "!fc-cache -fv\n",
        "!rm ~/.cache/matplotlib -rf\n",
        "# 설치 후 colab의 경우 Runtime > Restart session 필요"
      ],
      "metadata": {
        "colab": {
          "base_uri": "https://localhost:8080/"
        },
        "id": "tSg-lwQTtDru",
        "outputId": "4e7d632b-c8da-45a3-c266-9b108530a6c7"
      },
      "execution_count": 1,
      "outputs": [
        {
          "output_type": "stream",
          "name": "stdout",
          "text": [
            "Reading package lists... Done\n",
            "Building dependency tree... Done\n",
            "Reading state information... Done\n",
            "fonts-nanum is already the newest version (20200506-1).\n",
            "0 upgraded, 0 newly installed, 0 to remove and 31 not upgraded.\n",
            "/usr/share/fonts: caching, new cache contents: 0 fonts, 1 dirs\n",
            "/usr/share/fonts/truetype: caching, new cache contents: 0 fonts, 3 dirs\n",
            "/usr/share/fonts/truetype/humor-sans: caching, new cache contents: 1 fonts, 0 dirs\n",
            "/usr/share/fonts/truetype/liberation: caching, new cache contents: 16 fonts, 0 dirs\n",
            "/usr/share/fonts/truetype/nanum: caching, new cache contents: 12 fonts, 0 dirs\n",
            "/usr/local/share/fonts: caching, new cache contents: 0 fonts, 0 dirs\n",
            "/root/.local/share/fonts: skipping, no such directory\n",
            "/root/.fonts: skipping, no such directory\n",
            "/usr/share/fonts/truetype: skipping, looped directory detected\n",
            "/usr/share/fonts/truetype/humor-sans: skipping, looped directory detected\n",
            "/usr/share/fonts/truetype/liberation: skipping, looped directory detected\n",
            "/usr/share/fonts/truetype/nanum: skipping, looped directory detected\n",
            "/var/cache/fontconfig: cleaning cache directory\n",
            "/root/.cache/fontconfig: not cleaning non-existent cache directory\n",
            "/root/.fontconfig: not cleaning non-existent cache directory\n",
            "fc-cache: succeeded\n"
          ]
        }
      ]
    },
    {
      "cell_type": "code",
      "source": [
        "import matplotlib.pyplot as plt\n",
        "import matplotlib as mpl\n",
        "mpl.rc('font', family='NanumBarunGothic') # 혹은 다른 설치한 Nanum 폰트 사용"
      ],
      "metadata": {
        "id": "NMCQfiKKtTsF"
      },
      "execution_count": 7,
      "outputs": []
    },
    {
      "cell_type": "code",
      "execution_count": 8,
      "metadata": {
        "colab": {
          "base_uri": "https://localhost:8080/",
          "height": 649
        },
        "id": "Wn-ZtGcvlrAa",
        "outputId": "5cbf207f-2da6-4c56-c0a3-0ef94fc01273"
      },
      "outputs": [
        {
          "output_type": "stream",
          "name": "stdout",
          "text": [
            "<class 'pandas.core.frame.DataFrame'>\n",
            "RangeIndex: 51304 entries, 0 to 51303\n",
            "Data columns (total 17 columns):\n",
            " #   Column             Non-Null Count  Dtype  \n",
            "---  ------             --------------  -----  \n",
            " 0   id                 51304 non-null  int64  \n",
            " 1   type_of_contract   51300 non-null  object \n",
            " 2   type_of_contract2  51303 non-null  object \n",
            " 3   channel            51304 non-null  object \n",
            " 4   datetime           51304 non-null  object \n",
            " 5   Term               51304 non-null  int64  \n",
            " 6   payment_type       51304 non-null  object \n",
            " 7   product            51303 non-null  object \n",
            " 8   amount             51304 non-null  int64  \n",
            " 9   state              51304 non-null  object \n",
            " 10  overdue_count      51304 non-null  int64  \n",
            " 11  overdue            51302 non-null  object \n",
            " 12  credit rating      42521 non-null  float64\n",
            " 13  bank               48544 non-null  object \n",
            " 14  cancellation       51279 non-null  object \n",
            " 15  age                40509 non-null  float64\n",
            " 16  Mileage            40509 non-null  float64\n",
            "dtypes: float64(3), int64(4), object(10)\n",
            "memory usage: 6.7+ MB\n"
          ]
        },
        {
          "output_type": "execute_result",
          "data": {
            "text/plain": [
              "         id type_of_contract type_of_contract2 channel    datetime  Term  \\\n",
              "0  66758234               렌탈            Normal  서비스 방문  2019-10-20    60   \n",
              "1  66755948               렌탈  Extension_Rental  서비스 방문  2019-10-20    60   \n",
              "2  66756657               렌탈            Normal  홈쇼핑/방송  2019-10-20    60   \n",
              "3  66423450              멤버십               TAS   렌탈재계약  2019-10-20    12   \n",
              "4  66423204              멤버십               TAS   렌탈재계약  2019-10-20    12   \n",
              "\n",
              "  payment_type product  amount state  overdue_count overdue  credit rating  \\\n",
              "0          CMS      K1   96900  계약확정              0      없음            9.0   \n",
              "1         카드이체      K1  102900  계약확정              0      없음            2.0   \n",
              "2          CMS      K1   96900  계약확정              0      없음            8.0   \n",
              "3          CMS      K1   66900  계약확정              0      없음            5.0   \n",
              "4          CMS      K1   66900  해약확정             12      있음            8.0   \n",
              "\n",
              "    bank cancellation   age  Mileage  \n",
              "0  새마을금고           정상  43.0   1862.0  \n",
              "1   현대카드           정상  62.0   2532.0  \n",
              "2   우리은행           정상  60.0   2363.0  \n",
              "3   농협은행           정상  60.0   2449.0  \n",
              "4   농협은행           해약  51.0   1942.0  "
            ],
            "text/html": [
              "\n",
              "  <div id=\"df-242aff20-1ea9-4c6b-babc-fdc071db4a09\" class=\"colab-df-container\">\n",
              "    <div>\n",
              "<style scoped>\n",
              "    .dataframe tbody tr th:only-of-type {\n",
              "        vertical-align: middle;\n",
              "    }\n",
              "\n",
              "    .dataframe tbody tr th {\n",
              "        vertical-align: top;\n",
              "    }\n",
              "\n",
              "    .dataframe thead th {\n",
              "        text-align: right;\n",
              "    }\n",
              "</style>\n",
              "<table border=\"1\" class=\"dataframe\">\n",
              "  <thead>\n",
              "    <tr style=\"text-align: right;\">\n",
              "      <th></th>\n",
              "      <th>id</th>\n",
              "      <th>type_of_contract</th>\n",
              "      <th>type_of_contract2</th>\n",
              "      <th>channel</th>\n",
              "      <th>datetime</th>\n",
              "      <th>Term</th>\n",
              "      <th>payment_type</th>\n",
              "      <th>product</th>\n",
              "      <th>amount</th>\n",
              "      <th>state</th>\n",
              "      <th>overdue_count</th>\n",
              "      <th>overdue</th>\n",
              "      <th>credit rating</th>\n",
              "      <th>bank</th>\n",
              "      <th>cancellation</th>\n",
              "      <th>age</th>\n",
              "      <th>Mileage</th>\n",
              "    </tr>\n",
              "  </thead>\n",
              "  <tbody>\n",
              "    <tr>\n",
              "      <th>0</th>\n",
              "      <td>66758234</td>\n",
              "      <td>렌탈</td>\n",
              "      <td>Normal</td>\n",
              "      <td>서비스 방문</td>\n",
              "      <td>2019-10-20</td>\n",
              "      <td>60</td>\n",
              "      <td>CMS</td>\n",
              "      <td>K1</td>\n",
              "      <td>96900</td>\n",
              "      <td>계약확정</td>\n",
              "      <td>0</td>\n",
              "      <td>없음</td>\n",
              "      <td>9.0</td>\n",
              "      <td>새마을금고</td>\n",
              "      <td>정상</td>\n",
              "      <td>43.0</td>\n",
              "      <td>1862.0</td>\n",
              "    </tr>\n",
              "    <tr>\n",
              "      <th>1</th>\n",
              "      <td>66755948</td>\n",
              "      <td>렌탈</td>\n",
              "      <td>Extension_Rental</td>\n",
              "      <td>서비스 방문</td>\n",
              "      <td>2019-10-20</td>\n",
              "      <td>60</td>\n",
              "      <td>카드이체</td>\n",
              "      <td>K1</td>\n",
              "      <td>102900</td>\n",
              "      <td>계약확정</td>\n",
              "      <td>0</td>\n",
              "      <td>없음</td>\n",
              "      <td>2.0</td>\n",
              "      <td>현대카드</td>\n",
              "      <td>정상</td>\n",
              "      <td>62.0</td>\n",
              "      <td>2532.0</td>\n",
              "    </tr>\n",
              "    <tr>\n",
              "      <th>2</th>\n",
              "      <td>66756657</td>\n",
              "      <td>렌탈</td>\n",
              "      <td>Normal</td>\n",
              "      <td>홈쇼핑/방송</td>\n",
              "      <td>2019-10-20</td>\n",
              "      <td>60</td>\n",
              "      <td>CMS</td>\n",
              "      <td>K1</td>\n",
              "      <td>96900</td>\n",
              "      <td>계약확정</td>\n",
              "      <td>0</td>\n",
              "      <td>없음</td>\n",
              "      <td>8.0</td>\n",
              "      <td>우리은행</td>\n",
              "      <td>정상</td>\n",
              "      <td>60.0</td>\n",
              "      <td>2363.0</td>\n",
              "    </tr>\n",
              "    <tr>\n",
              "      <th>3</th>\n",
              "      <td>66423450</td>\n",
              "      <td>멤버십</td>\n",
              "      <td>TAS</td>\n",
              "      <td>렌탈재계약</td>\n",
              "      <td>2019-10-20</td>\n",
              "      <td>12</td>\n",
              "      <td>CMS</td>\n",
              "      <td>K1</td>\n",
              "      <td>66900</td>\n",
              "      <td>계약확정</td>\n",
              "      <td>0</td>\n",
              "      <td>없음</td>\n",
              "      <td>5.0</td>\n",
              "      <td>농협은행</td>\n",
              "      <td>정상</td>\n",
              "      <td>60.0</td>\n",
              "      <td>2449.0</td>\n",
              "    </tr>\n",
              "    <tr>\n",
              "      <th>4</th>\n",
              "      <td>66423204</td>\n",
              "      <td>멤버십</td>\n",
              "      <td>TAS</td>\n",
              "      <td>렌탈재계약</td>\n",
              "      <td>2019-10-20</td>\n",
              "      <td>12</td>\n",
              "      <td>CMS</td>\n",
              "      <td>K1</td>\n",
              "      <td>66900</td>\n",
              "      <td>해약확정</td>\n",
              "      <td>12</td>\n",
              "      <td>있음</td>\n",
              "      <td>8.0</td>\n",
              "      <td>농협은행</td>\n",
              "      <td>해약</td>\n",
              "      <td>51.0</td>\n",
              "      <td>1942.0</td>\n",
              "    </tr>\n",
              "  </tbody>\n",
              "</table>\n",
              "</div>\n",
              "    <div class=\"colab-df-buttons\">\n",
              "\n",
              "  <div class=\"colab-df-container\">\n",
              "    <button class=\"colab-df-convert\" onclick=\"convertToInteractive('df-242aff20-1ea9-4c6b-babc-fdc071db4a09')\"\n",
              "            title=\"Convert this dataframe to an interactive table.\"\n",
              "            style=\"display:none;\">\n",
              "\n",
              "  <svg xmlns=\"http://www.w3.org/2000/svg\" height=\"24px\" viewBox=\"0 -960 960 960\">\n",
              "    <path d=\"M120-120v-720h720v720H120Zm60-500h600v-160H180v160Zm220 220h160v-160H400v160Zm0 220h160v-160H400v160ZM180-400h160v-160H180v160Zm440 0h160v-160H620v160ZM180-180h160v-160H180v160Zm440 0h160v-160H620v160Z\"/>\n",
              "  </svg>\n",
              "    </button>\n",
              "\n",
              "  <style>\n",
              "    .colab-df-container {\n",
              "      display:flex;\n",
              "      gap: 12px;\n",
              "    }\n",
              "\n",
              "    .colab-df-convert {\n",
              "      background-color: #E8F0FE;\n",
              "      border: none;\n",
              "      border-radius: 50%;\n",
              "      cursor: pointer;\n",
              "      display: none;\n",
              "      fill: #1967D2;\n",
              "      height: 32px;\n",
              "      padding: 0 0 0 0;\n",
              "      width: 32px;\n",
              "    }\n",
              "\n",
              "    .colab-df-convert:hover {\n",
              "      background-color: #E2EBFA;\n",
              "      box-shadow: 0px 1px 2px rgba(60, 64, 67, 0.3), 0px 1px 3px 1px rgba(60, 64, 67, 0.15);\n",
              "      fill: #174EA6;\n",
              "    }\n",
              "\n",
              "    .colab-df-buttons div {\n",
              "      margin-bottom: 4px;\n",
              "    }\n",
              "\n",
              "    [theme=dark] .colab-df-convert {\n",
              "      background-color: #3B4455;\n",
              "      fill: #D2E3FC;\n",
              "    }\n",
              "\n",
              "    [theme=dark] .colab-df-convert:hover {\n",
              "      background-color: #434B5C;\n",
              "      box-shadow: 0px 1px 3px 1px rgba(0, 0, 0, 0.15);\n",
              "      filter: drop-shadow(0px 1px 2px rgba(0, 0, 0, 0.3));\n",
              "      fill: #FFFFFF;\n",
              "    }\n",
              "  </style>\n",
              "\n",
              "    <script>\n",
              "      const buttonEl =\n",
              "        document.querySelector('#df-242aff20-1ea9-4c6b-babc-fdc071db4a09 button.colab-df-convert');\n",
              "      buttonEl.style.display =\n",
              "        google.colab.kernel.accessAllowed ? 'block' : 'none';\n",
              "\n",
              "      async function convertToInteractive(key) {\n",
              "        const element = document.querySelector('#df-242aff20-1ea9-4c6b-babc-fdc071db4a09');\n",
              "        const dataTable =\n",
              "          await google.colab.kernel.invokeFunction('convertToInteractive',\n",
              "                                                    [key], {});\n",
              "        if (!dataTable) return;\n",
              "\n",
              "        const docLinkHtml = 'Like what you see? Visit the ' +\n",
              "          '<a target=\"_blank\" href=https://colab.research.google.com/notebooks/data_table.ipynb>data table notebook</a>'\n",
              "          + ' to learn more about interactive tables.';\n",
              "        element.innerHTML = '';\n",
              "        dataTable['output_type'] = 'display_data';\n",
              "        await google.colab.output.renderOutput(dataTable, element);\n",
              "        const docLink = document.createElement('div');\n",
              "        docLink.innerHTML = docLinkHtml;\n",
              "        element.appendChild(docLink);\n",
              "      }\n",
              "    </script>\n",
              "  </div>\n",
              "\n",
              "\n",
              "<div id=\"df-1bc6eb1e-98d0-4eb9-9769-cf6a6f16d733\">\n",
              "  <button class=\"colab-df-quickchart\" onclick=\"quickchart('df-1bc6eb1e-98d0-4eb9-9769-cf6a6f16d733')\"\n",
              "            title=\"Suggest charts\"\n",
              "            style=\"display:none;\">\n",
              "\n",
              "<svg xmlns=\"http://www.w3.org/2000/svg\" height=\"24px\"viewBox=\"0 0 24 24\"\n",
              "     width=\"24px\">\n",
              "    <g>\n",
              "        <path d=\"M19 3H5c-1.1 0-2 .9-2 2v14c0 1.1.9 2 2 2h14c1.1 0 2-.9 2-2V5c0-1.1-.9-2-2-2zM9 17H7v-7h2v7zm4 0h-2V7h2v10zm4 0h-2v-4h2v4z\"/>\n",
              "    </g>\n",
              "</svg>\n",
              "  </button>\n",
              "\n",
              "<style>\n",
              "  .colab-df-quickchart {\n",
              "      --bg-color: #E8F0FE;\n",
              "      --fill-color: #1967D2;\n",
              "      --hover-bg-color: #E2EBFA;\n",
              "      --hover-fill-color: #174EA6;\n",
              "      --disabled-fill-color: #AAA;\n",
              "      --disabled-bg-color: #DDD;\n",
              "  }\n",
              "\n",
              "  [theme=dark] .colab-df-quickchart {\n",
              "      --bg-color: #3B4455;\n",
              "      --fill-color: #D2E3FC;\n",
              "      --hover-bg-color: #434B5C;\n",
              "      --hover-fill-color: #FFFFFF;\n",
              "      --disabled-bg-color: #3B4455;\n",
              "      --disabled-fill-color: #666;\n",
              "  }\n",
              "\n",
              "  .colab-df-quickchart {\n",
              "    background-color: var(--bg-color);\n",
              "    border: none;\n",
              "    border-radius: 50%;\n",
              "    cursor: pointer;\n",
              "    display: none;\n",
              "    fill: var(--fill-color);\n",
              "    height: 32px;\n",
              "    padding: 0;\n",
              "    width: 32px;\n",
              "  }\n",
              "\n",
              "  .colab-df-quickchart:hover {\n",
              "    background-color: var(--hover-bg-color);\n",
              "    box-shadow: 0 1px 2px rgba(60, 64, 67, 0.3), 0 1px 3px 1px rgba(60, 64, 67, 0.15);\n",
              "    fill: var(--button-hover-fill-color);\n",
              "  }\n",
              "\n",
              "  .colab-df-quickchart-complete:disabled,\n",
              "  .colab-df-quickchart-complete:disabled:hover {\n",
              "    background-color: var(--disabled-bg-color);\n",
              "    fill: var(--disabled-fill-color);\n",
              "    box-shadow: none;\n",
              "  }\n",
              "\n",
              "  .colab-df-spinner {\n",
              "    border: 2px solid var(--fill-color);\n",
              "    border-color: transparent;\n",
              "    border-bottom-color: var(--fill-color);\n",
              "    animation:\n",
              "      spin 1s steps(1) infinite;\n",
              "  }\n",
              "\n",
              "  @keyframes spin {\n",
              "    0% {\n",
              "      border-color: transparent;\n",
              "      border-bottom-color: var(--fill-color);\n",
              "      border-left-color: var(--fill-color);\n",
              "    }\n",
              "    20% {\n",
              "      border-color: transparent;\n",
              "      border-left-color: var(--fill-color);\n",
              "      border-top-color: var(--fill-color);\n",
              "    }\n",
              "    30% {\n",
              "      border-color: transparent;\n",
              "      border-left-color: var(--fill-color);\n",
              "      border-top-color: var(--fill-color);\n",
              "      border-right-color: var(--fill-color);\n",
              "    }\n",
              "    40% {\n",
              "      border-color: transparent;\n",
              "      border-right-color: var(--fill-color);\n",
              "      border-top-color: var(--fill-color);\n",
              "    }\n",
              "    60% {\n",
              "      border-color: transparent;\n",
              "      border-right-color: var(--fill-color);\n",
              "    }\n",
              "    80% {\n",
              "      border-color: transparent;\n",
              "      border-right-color: var(--fill-color);\n",
              "      border-bottom-color: var(--fill-color);\n",
              "    }\n",
              "    90% {\n",
              "      border-color: transparent;\n",
              "      border-bottom-color: var(--fill-color);\n",
              "    }\n",
              "  }\n",
              "</style>\n",
              "\n",
              "  <script>\n",
              "    async function quickchart(key) {\n",
              "      const quickchartButtonEl =\n",
              "        document.querySelector('#' + key + ' button');\n",
              "      quickchartButtonEl.disabled = true;  // To prevent multiple clicks.\n",
              "      quickchartButtonEl.classList.add('colab-df-spinner');\n",
              "      try {\n",
              "        const charts = await google.colab.kernel.invokeFunction(\n",
              "            'suggestCharts', [key], {});\n",
              "      } catch (error) {\n",
              "        console.error('Error during call to suggestCharts:', error);\n",
              "      }\n",
              "      quickchartButtonEl.classList.remove('colab-df-spinner');\n",
              "      quickchartButtonEl.classList.add('colab-df-quickchart-complete');\n",
              "    }\n",
              "    (() => {\n",
              "      let quickchartButtonEl =\n",
              "        document.querySelector('#df-1bc6eb1e-98d0-4eb9-9769-cf6a6f16d733 button');\n",
              "      quickchartButtonEl.style.display =\n",
              "        google.colab.kernel.accessAllowed ? 'block' : 'none';\n",
              "    })();\n",
              "  </script>\n",
              "</div>\n",
              "\n",
              "    </div>\n",
              "  </div>\n"
            ]
          },
          "metadata": {},
          "execution_count": 8
        }
      ],
      "source": [
        "import pandas as pd\n",
        "import seaborn as sns\n",
        "df_LCOCT = pd.read_csv('/content/LetalCarOfContractType.csv')\n",
        "df_LCOCT.info()\n",
        "df_LCOCT.dropna(inplace=True)\n",
        "df_LCOCT[:5]"
      ]
    },
    {
      "cell_type": "markdown",
      "source": [
        "## 기술 데이터 분석(DDA)"
      ],
      "metadata": {
        "id": "cX7jkmsHmwkr"
      }
    },
    {
      "cell_type": "markdown",
      "source": [
        "- 제안 7: 지불 방식에 따른 고객 행동 분석\n",
        "  - 문제 정의: 다양한 지불 방식(예: CMS, 카드 이체 등)을 사용하는 고객들의 행동 패턴을 분석합니다.\n",
        "  - 배경: 지불 방식에 따른 고객 행동을 이해함으로써, 효율적인 결제 시스템을 설계하고 고객 서비스를 개선할 수 있습니다."
      ],
      "metadata": {
        "id": "wfC46JGjmkZ7"
      }
    },
    {
      "cell_type": "code",
      "source": [
        "# 지불 방식 분포 확인\n",
        "df_LCOCT['payment_type'].value_counts()\n",
        "# 카드이체 결제건보다 CMS 결제건이 1.85배 더 높음.\n",
        "# 인사이트 : 자동결제 방식으로 결제된 고객의 수가 더 높다는 점에서 충성고객으로의 전환 가능성이 높을 것으로 보임."
      ],
      "metadata": {
        "colab": {
          "base_uri": "https://localhost:8080/"
        },
        "id": "He_Z4YoEl8uW",
        "outputId": "6c6e3b3c-e322-402f-a0f8-5f9b335b1078"
      },
      "execution_count": 9,
      "outputs": [
        {
          "output_type": "execute_result",
          "data": {
            "text/plain": [
              "CMS     26274\n",
              "카드이체    14206\n",
              "Name: payment_type, dtype: int64"
            ]
          },
          "metadata": {},
          "execution_count": 9
        }
      ]
    },
    {
      "cell_type": "code",
      "source": [
        "# 결제은행 분포 확인\n",
        "df_LCOCT['bank'].value_counts()[:10]\n",
        "# 최다 건수 결제 은행의 순위는 롯데카드>국민은행>농협은행>신한은행>우리은행>신한카드>기업은행>국민카드>하나은행>BC카드\n",
        "# 인사이트 : 롯데카드와 국민은행에 결제건이 몰려있는 것으로 보아 해당 카드사 관련 혜택 프로모션 진행 빈도수를 체크해볼 필요가 있음."
      ],
      "metadata": {
        "colab": {
          "base_uri": "https://localhost:8080/"
        },
        "id": "_81kFlJxnDWG",
        "outputId": "5b0e7ebd-fcd1-42d2-e087-4cf5749d0776"
      },
      "execution_count": 10,
      "outputs": [
        {
          "output_type": "execute_result",
          "data": {
            "text/plain": [
              "롯데카드    8755\n",
              "국민은행    8032\n",
              "농협은행    5280\n",
              "신한은행    2767\n",
              "우리은행    2671\n",
              "신한카드    1389\n",
              "기업은행    1270\n",
              "국민카드    1112\n",
              "하나은행    1088\n",
              "BC카드    1062\n",
              "Name: bank, dtype: int64"
            ]
          },
          "metadata": {},
          "execution_count": 10
        }
      ]
    },
    {
      "cell_type": "markdown",
      "source": [
        "## EDA"
      ],
      "metadata": {
        "id": "2gcBjCXUpl_t"
      }
    },
    {
      "cell_type": "code",
      "source": [
        "# # CMS 결제건의 amount 총합\n",
        "# df_LCOCT_CMS = df_LCOCT.query('payment_type == \"CMS\"')\n",
        "# CMS_sum_amount = df_LCOCT_CMS['amount'].sum()\n",
        "\n",
        "# # 카드이체 결제건의 amount 총합\n",
        "# df_LCOCT_card = df_LCOCT.query('payment_type == \"카드이체\"')\n",
        "# card_sum_amount = df_LCOCT_card['amount'].sum()\n",
        "\n",
        "# CMS_sum_amount, card_sum_amount\n",
        "\n",
        "sns.barplot(data=df_LCOCT, x='payment_type', y='amount', estimator=sum)\n",
        "\n",
        "# 인사이트 : DDA에서 확인한 단순한 결제건별 비중 차이를 각 결제건별과 amount를 비교하여 매출규모로써도 CMS결제가 카드이체 결제보다 높다는 것을 확인."
      ],
      "metadata": {
        "colab": {
          "base_uri": "https://localhost:8080/",
          "height": 482
        },
        "id": "wpL_8PKHo8jF",
        "outputId": "efb9f176-32c0-420a-efa3-ffbba8a7ebc4"
      },
      "execution_count": 20,
      "outputs": [
        {
          "output_type": "execute_result",
          "data": {
            "text/plain": [
              "<Axes: xlabel='payment_type', ylabel='amount'>"
            ]
          },
          "metadata": {},
          "execution_count": 20
        },
        {
          "output_type": "display_data",
          "data": {
            "text/plain": [
              "<Figure size 640x480 with 1 Axes>"
            ],
            "image/png": "[encoded data removed]"
          },
          "metadata": {}
        }
      ]
    },
    {
      "cell_type": "code",
      "source": [
        "df_bank_amount_sorted = df_LCOCT.groupby('bank')['amount'].sum().sort_values(ascending=False)\n",
        "sns.barplot(x=df_bank_amount_sorted.values, y=df_bank_amount_sorted.index)\n",
        "\n",
        "# 인사이트 : 결제 건수로 확인한 각 은행별 사용 빈도 횟수 순위가 amount를 비교하여 매출규모로써도 동일한 양상을 보이고 있는 것을 확인."
      ],
      "metadata": {
        "colab": {
          "base_uri": "https://localhost:8080/",
          "height": 467
        },
        "id": "DWurWb3ZqAPO",
        "outputId": "1aa17459-53e0-4956-e3ca-e41fa294f72e"
      },
      "execution_count": 28,
      "outputs": [
        {
          "output_type": "execute_result",
          "data": {
            "text/plain": [
              "<Axes: ylabel='bank'>"
            ]
          },
          "metadata": {},
          "execution_count": 28
        },
        {
          "output_type": "display_data",
          "data": {
            "text/plain": [
              "<Figure size 640x480 with 1 Axes>"
            ],
            "image/png": "[encoded data removed]"
          },
          "metadata": {}
        }
      ]
    },
    {
      "cell_type": "markdown",
      "source": [
        "보고용 insight 작성"
      ],
      "metadata": {
        "id": "IXOlq3cdxucU"
      }
    },
    {
      "cell_type": "markdown",
      "source": [
        "- 지불 방식에 따른 인사이트\n",
        "  + 분석 결과 : CMS 결제건이 카드이체 결제건보다 약 1.85배 높음.\n",
        "  + 전략 제안 : 자동결제 방식인 CMS 결제건의 비중을 더 높여 충성고객들의 팬덤형성에 노력을 들일 필요가 있을 것으로 보임. 보다 편리한 CMS 결제 방식으로의 업데이트를 고민해볼 필요가 있을 것으로 보임.\n",
        "- 결제 은행에 따른 인사이트\n",
        "  + 분석 결과 : 결제 빈도수와 결제 금액 2가지 요소를 고려한 최다 결제 은행 순위는 다음과 같음.\n",
        "  롯데카드>국민은행>농협은행>신한은행>우리은행>신한카드>기업은행>국민카드>하나은행>BC카드>기타\n",
        "  + 전략 제안 : 현재 가장 높은 순위를 차지하고 있는 롯데카드, 국민은행, 농협은행의 카드관련 혜택 프로모션 진행 여부 및 진행 빈도수 데이터를 재확인할 필요가 있음. 이외 결제율이 하위권인 은행의 경우 프로모션 효율 검증 및 진행 가능 여부를 파악해 추진해보면 좋을 듯."
      ],
      "metadata": {
        "id": "TUqQAyLDxzU9"
      }
    },
    {
      "cell_type": "code",
      "source": [],
      "metadata": {
        "id": "c3dT_WRWx1LY"
      },
      "execution_count": null,
      "outputs": []
    }
  ]
}